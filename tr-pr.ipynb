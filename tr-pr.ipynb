{
 "cells": [
  {
   "cell_type": "code",
   "execution_count": 1,
   "metadata": {},
   "outputs": [],
   "source": [
    "\"\"\"\n",
    "The Beer Distribution Problem for the PuLP Modeller\n",
    "Authors: Antony Phillips, Dr Stuart Mitchell 2007\n",
    "\"\"\"\n",
    "# Import PuLP modeler functions\n",
    "import pulp"
   ]
  },
  {
   "cell_type": "code",
   "execution_count": 2,
   "metadata": {},
   "outputs": [],
   "source": [
    "# Creates a list of all the supply nodes\n",
    "warehouses = [\"A\", \"B\"]\n",
    "\n",
    "# Creates a dictionary for the number of units of supply for each supply node\n",
    "supply = {\"A\": 1000,\n",
    "        \"B\": 4000}\n",
    "\n",
    "# Creates a list of all demand nodes\n",
    "bars = [\"1\", \"2\", \"3\", \"4\", \"5\"]\n",
    "\n",
    "# Creates a dictionary for the number of units of demand for each demand node\n",
    "demand = {\"1\":500,\n",
    "        \"2\":900,\n",
    "        \"3\":1800,\n",
    "        \"4\":200,\n",
    "        \"5\":700}\n",
    "\n",
    "# Creates a list of costs of each transportation path\n",
    "costs = [ #Bars\n",
    "#1 2 3 4 5\n",
    "[2,4,5,2,1],#A Warehouses\n",
    "[3,1,3,2,3] #B\n",
    "]"
   ]
  },
  {
   "cell_type": "code",
   "execution_count": 3,
   "metadata": {},
   "outputs": [],
   "source": [
    "# The cost data is made into a dictionary\n",
    "costs = pulp.makeDict([warehouses, bars], costs,0)"
   ]
  },
  {
   "cell_type": "code",
   "execution_count": 4,
   "metadata": {},
   "outputs": [],
   "source": [
    "# Creates the ’prob’ variable to contain the problem data\n",
    "prob = pulp.LpProblem(\"Beer Distribution Problem\", pulp.LpMinimize)"
   ]
  },
  {
   "cell_type": "code",
   "execution_count": 5,
   "metadata": {},
   "outputs": [],
   "source": [
    "# Creates a list of tuples containing all the possible routes for transport\n",
    "routes = [(w,b) for w in warehouses for b in bars]"
   ]
  },
  {
   "cell_type": "code",
   "execution_count": 6,
   "metadata": {},
   "outputs": [],
   "source": [
    "# A dictionary called x is created to contain quantity shipped on the routes\n",
    "x = pulp.LpVariable.dicts(\"route\", (warehouses, bars),lowBound = 0,cat = pulp.LpInteger)"
   ]
  },
  {
   "cell_type": "code",
   "execution_count": 7,
   "metadata": {},
   "outputs": [],
   "source": [
    "# The objective function is added to ’prob’ first\n",
    "prob += sum([x[w][b]*costs[w][b] for (w,b) in routes]), \\\n",
    "\"Sum_of_Transporting_Costs\""
   ]
  },
  {
   "cell_type": "code",
   "execution_count": 8,
   "metadata": {},
   "outputs": [],
   "source": [
    "# Supply maximum constraints are added to prob for each supply node (warehouse)\n",
    "for w in warehouses:\n",
    "    prob += sum([x[w][b] for b in bars]) <= supply[w], \\\n",
    "\"Sum_of_Products_out_of_Warehouse_%s\"%w"
   ]
  },
  {
   "cell_type": "code",
   "execution_count": 9,
   "metadata": {},
   "outputs": [],
   "source": [
    "# Demand minimum constraints are added to prob for each demand node (bar)\n",
    "for b in bars:\n",
    "    prob += sum([x[w][b] for w in warehouses]) >= demand[b], \\\n",
    "\"Sum_of_Products_into_Bar%s\"%b"
   ]
  },
  {
   "cell_type": "code",
   "execution_count": 10,
   "metadata": {},
   "outputs": [],
   "source": [
    "# The problem data is written to an .lp file\n",
    "prob.writeLP(\"BeerDistributionProblem.lp\")"
   ]
  },
  {
   "cell_type": "code",
   "execution_count": 11,
   "metadata": {},
   "outputs": [
    {
     "data": {
      "text/plain": [
       "1"
      ]
     },
     "execution_count": 11,
     "metadata": {},
     "output_type": "execute_result"
    }
   ],
   "source": [
    "# The problem is solved using PuLP’s choice of Solver\n",
    "prob.solve()"
   ]
  },
  {
   "cell_type": "code",
   "execution_count": 12,
   "metadata": {},
   "outputs": [
    {
     "name": "stdout",
     "output_type": "stream",
     "text": [
      "Status: Optimal\n"
     ]
    }
   ],
   "source": [
    "# The status of the solution is printed to the screen\n",
    "print (\"Status:\", pulp.LpStatus[prob.status])"
   ]
  },
  {
   "cell_type": "code",
   "execution_count": 13,
   "metadata": {},
   "outputs": [
    {
     "name": "stdout",
     "output_type": "stream",
     "text": [
      "route_A_1 = 300.0\n",
      "route_A_2 = 0.0\n",
      "route_A_3 = 0.0\n",
      "route_A_4 = 0.0\n",
      "route_A_5 = 700.0\n",
      "route_B_1 = 200.0\n",
      "route_B_2 = 900.0\n",
      "route_B_3 = 1800.0\n",
      "route_B_4 = 200.0\n",
      "route_B_5 = 0.0\n"
     ]
    }
   ],
   "source": [
    "# Each of the variables is printed with it’s resolved optimum value\n",
    "for v in prob.variables():\n",
    "    print (v.name, \"=\", v.varValue)"
   ]
  },
  {
   "cell_type": "code",
   "execution_count": 14,
   "metadata": {},
   "outputs": [
    {
     "name": "stdout",
     "output_type": "stream",
     "text": [
      "Total Cost of Transportation =  8600.0\n"
     ]
    }
   ],
   "source": [
    "# The optimised objective function value is printed to the screen\n",
    "print (\"Total Cost of Transportation = \", prob.objective.value())"
   ]
  },
  {
   "cell_type": "code",
   "execution_count": null,
   "metadata": {},
   "outputs": [],
   "source": []
  }
 ],
 "metadata": {
  "kernelspec": {
   "display_name": "Python 3",
   "language": "python",
   "name": "python3"
  },
  "language_info": {
   "codemirror_mode": {
    "name": "ipython",
    "version": 3
   },
   "file_extension": ".py",
   "mimetype": "text/x-python",
   "name": "python",
   "nbconvert_exporter": "python",
   "pygments_lexer": "ipython3",
   "version": "3.6.4"
  }
 },
 "nbformat": 4,
 "nbformat_minor": 2
}
